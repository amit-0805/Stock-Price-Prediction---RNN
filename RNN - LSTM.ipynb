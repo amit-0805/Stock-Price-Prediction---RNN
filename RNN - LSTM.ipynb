{
 "cells": [
  {
   "cell_type": "code",
   "execution_count": 1,
   "id": "fceb4e6d",
   "metadata": {},
   "outputs": [],
   "source": [
    "import pandas as pd\n",
    "import numpy as np\n",
    "import matplotlib.pyplot as plt"
   ]
  },
  {
   "cell_type": "code",
   "execution_count": 2,
   "id": "49168101",
   "metadata": {},
   "outputs": [],
   "source": [
    "train_dataset = pd.read_csv(r\"C:\\Users\\amita\\Desktop\\Deep Learning\\RNN\\RNN\\Part 3 - Recurrent Neural Networks\\Google_Stock_Price_Train.csv\")"
   ]
  },
  {
   "cell_type": "code",
   "execution_count": 3,
   "id": "ab261f67",
   "metadata": {},
   "outputs": [
    {
     "data": {
      "text/html": [
       "<div>\n",
       "<style scoped>\n",
       "    .dataframe tbody tr th:only-of-type {\n",
       "        vertical-align: middle;\n",
       "    }\n",
       "\n",
       "    .dataframe tbody tr th {\n",
       "        vertical-align: top;\n",
       "    }\n",
       "\n",
       "    .dataframe thead th {\n",
       "        text-align: right;\n",
       "    }\n",
       "</style>\n",
       "<table border=\"1\" class=\"dataframe\">\n",
       "  <thead>\n",
       "    <tr style=\"text-align: right;\">\n",
       "      <th></th>\n",
       "      <th>Date</th>\n",
       "      <th>Open</th>\n",
       "      <th>High</th>\n",
       "      <th>Low</th>\n",
       "      <th>Close</th>\n",
       "      <th>Volume</th>\n",
       "    </tr>\n",
       "  </thead>\n",
       "  <tbody>\n",
       "    <tr>\n",
       "      <th>0</th>\n",
       "      <td>1/3/2012</td>\n",
       "      <td>325.25</td>\n",
       "      <td>332.83</td>\n",
       "      <td>324.97</td>\n",
       "      <td>663.59</td>\n",
       "      <td>7,380,500</td>\n",
       "    </tr>\n",
       "    <tr>\n",
       "      <th>1</th>\n",
       "      <td>1/4/2012</td>\n",
       "      <td>331.27</td>\n",
       "      <td>333.87</td>\n",
       "      <td>329.08</td>\n",
       "      <td>666.45</td>\n",
       "      <td>5,749,400</td>\n",
       "    </tr>\n",
       "    <tr>\n",
       "      <th>2</th>\n",
       "      <td>1/5/2012</td>\n",
       "      <td>329.83</td>\n",
       "      <td>330.75</td>\n",
       "      <td>326.89</td>\n",
       "      <td>657.21</td>\n",
       "      <td>6,590,300</td>\n",
       "    </tr>\n",
       "    <tr>\n",
       "      <th>3</th>\n",
       "      <td>1/6/2012</td>\n",
       "      <td>328.34</td>\n",
       "      <td>328.77</td>\n",
       "      <td>323.68</td>\n",
       "      <td>648.24</td>\n",
       "      <td>5,405,900</td>\n",
       "    </tr>\n",
       "    <tr>\n",
       "      <th>4</th>\n",
       "      <td>1/9/2012</td>\n",
       "      <td>322.04</td>\n",
       "      <td>322.29</td>\n",
       "      <td>309.46</td>\n",
       "      <td>620.76</td>\n",
       "      <td>11,688,800</td>\n",
       "    </tr>\n",
       "  </tbody>\n",
       "</table>\n",
       "</div>"
      ],
      "text/plain": [
       "       Date    Open    High     Low   Close      Volume\n",
       "0  1/3/2012  325.25  332.83  324.97  663.59   7,380,500\n",
       "1  1/4/2012  331.27  333.87  329.08  666.45   5,749,400\n",
       "2  1/5/2012  329.83  330.75  326.89  657.21   6,590,300\n",
       "3  1/6/2012  328.34  328.77  323.68  648.24   5,405,900\n",
       "4  1/9/2012  322.04  322.29  309.46  620.76  11,688,800"
      ]
     },
     "execution_count": 3,
     "metadata": {},
     "output_type": "execute_result"
    }
   ],
   "source": [
    "train_dataset.head()"
   ]
  },
  {
   "cell_type": "code",
   "execution_count": 4,
   "id": "7101b92a",
   "metadata": {},
   "outputs": [],
   "source": [
    "#WE NEED TO CONVERT TO A NP ARRAY AS IT CAN ONLY BE INPUT FOR RNN\n",
    "training_set = train_dataset.iloc[:, 1:2].values #only take one index so we have a np array of one columns"
   ]
  },
  {
   "cell_type": "code",
   "execution_count": 5,
   "id": "99e51e54",
   "metadata": {},
   "outputs": [
    {
     "data": {
      "text/plain": [
       "array([[325.25],\n",
       "       [331.27],\n",
       "       [329.83],\n",
       "       ...,\n",
       "       [793.7 ],\n",
       "       [783.33],\n",
       "       [782.75]])"
      ]
     },
     "execution_count": 5,
     "metadata": {},
     "output_type": "execute_result"
    }
   ],
   "source": [
    "training_set"
   ]
  },
  {
   "cell_type": "code",
   "execution_count": 6,
   "id": "959b61dd",
   "metadata": {},
   "outputs": [
    {
     "data": {
      "text/plain": [
       "(1258, 1)"
      ]
     },
     "execution_count": 6,
     "metadata": {},
     "output_type": "execute_result"
    }
   ],
   "source": [
    "training_set.shape"
   ]
  },
  {
   "cell_type": "markdown",
   "id": "fc149bb2",
   "metadata": {},
   "source": [
    "## Feature Scaling"
   ]
  },
  {
   "cell_type": "code",
   "execution_count": 7,
   "id": "64415beb",
   "metadata": {},
   "outputs": [],
   "source": [
    "# its better to use normalization for rnn where sigmoid activation fn is in the final op layer\n",
    "from sklearn.preprocessing import MinMaxScaler"
   ]
  },
  {
   "cell_type": "code",
   "execution_count": 9,
   "id": "ee46e517",
   "metadata": {},
   "outputs": [],
   "source": [
    "sc = MinMaxScaler(feature_range=(0,1))  # EVERY ONE WILL BE IN RANGE 0 TO 1"
   ]
  },
  {
   "cell_type": "code",
   "execution_count": 10,
   "id": "125f25d6",
   "metadata": {},
   "outputs": [],
   "source": [
    "training_set_scaled = sc.fit_transform(training_set) #IT WILL FIT AND TRANSFORM IT(SCALE IT) FIR->MIN AND MAX AND THEN TRANSFORMS IT INTO 0 TO 1 RANGE AS PER NORMALIZATION FORMULA"
   ]
  },
  {
   "cell_type": "code",
   "execution_count": 11,
   "id": "401ed69f",
   "metadata": {},
   "outputs": [
    {
     "data": {
      "text/plain": [
       "array([[0.08581368],\n",
       "       [0.09701243],\n",
       "       [0.09433366],\n",
       "       ...,\n",
       "       [0.95725128],\n",
       "       [0.93796041],\n",
       "       [0.93688146]])"
      ]
     },
     "execution_count": 11,
     "metadata": {},
     "output_type": "execute_result"
    }
   ],
   "source": [
    "training_set_scaled"
   ]
  },
  {
   "cell_type": "markdown",
   "id": "b5f9a526",
   "metadata": {},
   "source": [
    "## Creating a data structure with 60 timesteps and 1 output"
   ]
  },
  {
   "cell_type": "code",
   "execution_count": 13,
   "id": "0ce9dcf2",
   "metadata": {},
   "outputs": [],
   "source": [
    "#it means at each time t rnn will look at 60 stock prices ie 60 days before time t and time t and predict the next day output\n",
    "#it takes 60 days past data to predict next day prediction\n",
    "#20 financial days each month so 3 months data reqd"
   ]
  },
  {
   "cell_type": "code",
   "execution_count": 14,
   "id": "c0903504",
   "metadata": {},
   "outputs": [],
   "source": [
    "#X_train has stock prices of last 60 days\n",
    "#y_train has the prediction of 61st day for every time t\n",
    "X_train = []\n",
    "y_train = []\n",
    "for i in range(60,1258):\n",
    "    X_train.append(training_set_scaled[i-60:i, 0]) #append 60 days stock prices before the day of index i ie if i ==90 then X_train must have stock proces from day 20-89 etc, 0 is for column and i-60:i is the number of rows ie 60 last\n",
    "    y_train.append(training_set_scaled[i, 0]) #index starts at 0 and i is row and 0 is col\n",
    "X_train, y_train = np.array(X_train), np.array(y_train)"
   ]
  },
  {
   "cell_type": "code",
   "execution_count": 15,
   "id": "29b6a97f",
   "metadata": {},
   "outputs": [
    {
     "data": {
      "text/plain": [
       "array([[0.08581368, 0.09701243, 0.09433366, ..., 0.07846566, 0.08034452,\n",
       "        0.08497656],\n",
       "       [0.09701243, 0.09433366, 0.09156187, ..., 0.08034452, 0.08497656,\n",
       "        0.08627874],\n",
       "       [0.09433366, 0.09156187, 0.07984225, ..., 0.08497656, 0.08627874,\n",
       "        0.08471612],\n",
       "       ...,\n",
       "       [0.92106928, 0.92438053, 0.93048218, ..., 0.95475854, 0.95204256,\n",
       "        0.95163331],\n",
       "       [0.92438053, 0.93048218, 0.9299055 , ..., 0.95204256, 0.95163331,\n",
       "        0.95725128],\n",
       "       [0.93048218, 0.9299055 , 0.93113327, ..., 0.95163331, 0.95725128,\n",
       "        0.93796041]])"
      ]
     },
     "execution_count": 15,
     "metadata": {},
     "output_type": "execute_result"
    }
   ],
   "source": [
    "X_train"
   ]
  },
  {
   "cell_type": "code",
   "execution_count": 16,
   "id": "118d805e",
   "metadata": {},
   "outputs": [
    {
     "data": {
      "text/plain": [
       "array([0.08627874, 0.08471612, 0.07454052, ..., 0.95725128, 0.93796041,\n",
       "       0.93688146])"
      ]
     },
     "execution_count": 16,
     "metadata": {},
     "output_type": "execute_result"
    }
   ],
   "source": [
    "y_train"
   ]
  },
  {
   "cell_type": "code",
   "execution_count": 17,
   "id": "3efa62f2",
   "metadata": {},
   "outputs": [
    {
     "data": {
      "text/plain": [
       "(1198, 60)"
      ]
     },
     "execution_count": 17,
     "metadata": {},
     "output_type": "execute_result"
    }
   ],
   "source": [
    "X_train.shape   #each row has 60 elements and 0th index means 60 elements from 0th day to 59th day and has 1198 rows"
   ]
  },
  {
   "cell_type": "code",
   "execution_count": 19,
   "id": "8d2effb1",
   "metadata": {},
   "outputs": [
    {
     "data": {
      "text/plain": [
       "(1198,)"
      ]
     },
     "execution_count": 19,
     "metadata": {},
     "output_type": "execute_result"
    }
   ],
   "source": [
    "y_train.shape #it has 1198 rows and just 1 col so ,"
   ]
  },
  {
   "cell_type": "markdown",
   "id": "21ebf5be",
   "metadata": {},
   "source": [
    "## Reshaping"
   ]
  },
  {
   "cell_type": "code",
   "execution_count": 20,
   "id": "8cee6a3f",
   "metadata": {},
   "outputs": [],
   "source": [
    "#to add more indicators ie add a new dimension"
   ]
  },
  {
   "cell_type": "code",
   "execution_count": 21,
   "id": "b3dd9e97",
   "metadata": {},
   "outputs": [],
   "source": [
    "X_train = np.reshape(X_train, (X_train.shape[0],X_train.shape[1],1))\n",
    "#reshape(old array, new shape, order)\n",
    "#our xtrain is 2d and we conver it to 3d\n",
    "#to add dimensions go to keras documentation and add, go to recurrant layers and check for input shape, it should be 3d ie (batch_size,time_steps, indicator(new)) like indicator can be a new stock price of other company as they may be correalted etc\n",
    "#batch_size = 1198 or x_train.shape[0] or no of rows\n",
    "#time_steps = no of cols or 60 or x_train.shape[1]\n",
    "#we only have 1 indicator we need to change if we have more ie we only predict the stock price beased on one indicator ie the previous stock prices, if we have other inp indicators like google stock price is dep on yahoo's so we add that ad well and make it 2"
   ]
  },
  {
   "cell_type": "code",
   "execution_count": 23,
   "id": "db6a52d3",
   "metadata": {},
   "outputs": [
    {
     "data": {
      "text/plain": [
       "(1198, 60, 1)"
      ]
     },
     "execution_count": 23,
     "metadata": {},
     "output_type": "execute_result"
    }
   ],
   "source": [
    "X_train.shape"
   ]
  },
  {
   "cell_type": "markdown",
   "id": "a9187480",
   "metadata": {},
   "source": [
    "## Building a RNN - Stacked LSTM"
   ]
  },
  {
   "cell_type": "code",
   "execution_count": 24,
   "id": "46b555c9",
   "metadata": {},
   "outputs": [
    {
     "name": "stdout",
     "output_type": "stream",
     "text": [
      "WARNING:tensorflow:From C:\\Users\\amita\\anaconda\\lib\\site-packages\\keras\\src\\losses.py:2976: The name tf.losses.sparse_softmax_cross_entropy is deprecated. Please use tf.compat.v1.losses.sparse_softmax_cross_entropy instead.\n",
      "\n"
     ]
    }
   ],
   "source": [
    "from keras.models import Sequential\n",
    "from keras.layers import Dense\n",
    "from keras.layers import LSTM\n",
    "from keras.layers import Dropout"
   ]
  },
  {
   "cell_type": "markdown",
   "id": "1aefdb3d",
   "metadata": {},
   "source": [
    "## Initialising a RNN"
   ]
  },
  {
   "cell_type": "code",
   "execution_count": 25,
   "id": "8a1ef892",
   "metadata": {},
   "outputs": [
    {
     "name": "stdout",
     "output_type": "stream",
     "text": [
      "WARNING:tensorflow:From C:\\Users\\amita\\anaconda\\lib\\site-packages\\keras\\src\\backend.py:873: The name tf.get_default_graph is deprecated. Please use tf.compat.v1.get_default_graph instead.\n",
      "\n"
     ]
    }
   ],
   "source": [
    "regressor = Sequential()"
   ]
  },
  {
   "cell_type": "markdown",
   "id": "e4b53e80",
   "metadata": {},
   "source": [
    "## Adding first LSTM layer and some dropout regularization"
   ]
  },
  {
   "cell_type": "code",
   "execution_count": 26,
   "id": "feedfefd",
   "metadata": {},
   "outputs": [],
   "source": [
    "regressor.add(LSTM(units = 50, return_sequences = True, input_shape = (X_train.shape[1],1)))\n",
    "#units is the number of LSTM Cells(neurons), return_sequences = True as we are building a stacked lstm, after adding all lstm layers amke it false, input_shape = exact shape of X_train in 3d\n",
    "#for input shape only mention time steps and indicator as the batch size is automatically taken\n",
    "#units = 50 as to make it high dimensional as predicting stock price is not constant always and with 50 it would capture all the upward and downward trends properly\n",
    "regressor.add(Dropout(0.2))\n",
    "#drop 20% of neurons in the layer ie 20% of neurons will be ignored during forward and backward propogation or each iteration"
   ]
  },
  {
   "cell_type": "markdown",
   "id": "4a06ec29",
   "metadata": {},
   "source": [
    "## Adding a second LSTM layer and some Dropout regularisation"
   ]
  },
  {
   "cell_type": "code",
   "execution_count": 27,
   "id": "ec7002ca",
   "metadata": {},
   "outputs": [],
   "source": [
    "regressor.add(LSTM(units = 50, return_sequences = True))\n",
    "regressor.add(Dropout(0.2))\n",
    "#input_shape not req as before it was a first layer and since we are addign the second on top of first its the same shape however"
   ]
  },
  {
   "cell_type": "markdown",
   "id": "9152fd6a",
   "metadata": {},
   "source": [
    "## Adding a third LSTM layer and some Dropout regularisation"
   ]
  },
  {
   "cell_type": "code",
   "execution_count": 28,
   "id": "10cfb4f6",
   "metadata": {},
   "outputs": [],
   "source": [
    "regressor.add(LSTM(units = 50, return_sequences = True))\n",
    "regressor.add(Dropout(0.2))"
   ]
  },
  {
   "cell_type": "markdown",
   "id": "df3af55d",
   "metadata": {},
   "source": [
    "## Adding a fourth LSTM layer and some Dropout regularisation"
   ]
  },
  {
   "cell_type": "code",
   "execution_count": 29,
   "id": "9d10d0e4",
   "metadata": {},
   "outputs": [],
   "source": [
    "regressor.add(LSTM(units = 50))\n",
    "regressor.add(Dropout(0.2))\n",
    "#return sequence is not req as there are no more lstm layers in the next steps or set it to false"
   ]
  },
  {
   "cell_type": "markdown",
   "id": "8534903f",
   "metadata": {},
   "source": [
    "## Adding the output layer"
   ]
  },
  {
   "cell_type": "code",
   "execution_count": 30,
   "id": "bc250150",
   "metadata": {},
   "outputs": [],
   "source": [
    "regressor.add(Dense(units=1)) #units =- 1 or stock price at time t+1\n",
    "#a simple single output layer as we only have one regressed output"
   ]
  },
  {
   "cell_type": "markdown",
   "id": "246f131e",
   "metadata": {},
   "source": [
    "## Compiling the RNN"
   ]
  },
  {
   "cell_type": "code",
   "execution_count": 31,
   "id": "e58a7a88",
   "metadata": {},
   "outputs": [
    {
     "name": "stdout",
     "output_type": "stream",
     "text": [
      "WARNING:tensorflow:From C:\\Users\\amita\\anaconda\\lib\\site-packages\\keras\\src\\optimizers\\__init__.py:309: The name tf.train.Optimizer is deprecated. Please use tf.compat.v1.train.Optimizer instead.\n",
      "\n"
     ]
    }
   ],
   "source": [
    "regressor.compile(optimizer = 'adam', loss = 'mean_squared_error')\n",
    "#adam for stochastic gradient descent\n",
    "#loss for regression is mean squared error\n",
    "#for regression no need of metrics to keep track  of it"
   ]
  },
  {
   "cell_type": "markdown",
   "id": "947f024d",
   "metadata": {},
   "source": [
    "## Fitting the RNN"
   ]
  },
  {
   "cell_type": "code",
   "execution_count": 32,
   "id": "4b587cdf",
   "metadata": {},
   "outputs": [
    {
     "name": "stdout",
     "output_type": "stream",
     "text": [
      "Epoch 1/100\n",
      "WARNING:tensorflow:From C:\\Users\\amita\\anaconda\\lib\\site-packages\\keras\\src\\utils\\tf_utils.py:492: The name tf.ragged.RaggedTensorValue is deprecated. Please use tf.compat.v1.ragged.RaggedTensorValue instead.\n",
      "\n",
      "38/38 [==============================] - 9s 62ms/step - loss: 0.0427\n",
      "Epoch 2/100\n",
      "38/38 [==============================] - 3s 67ms/step - loss: 0.0064\n",
      "Epoch 3/100\n",
      "38/38 [==============================] - 2s 64ms/step - loss: 0.0054\n",
      "Epoch 4/100\n",
      "38/38 [==============================] - 2s 60ms/step - loss: 0.0052\n",
      "Epoch 5/100\n",
      "38/38 [==============================] - 3s 70ms/step - loss: 0.0048\n",
      "Epoch 6/100\n",
      "38/38 [==============================] - 3s 68ms/step - loss: 0.0047\n",
      "Epoch 7/100\n",
      "38/38 [==============================] - 2s 62ms/step - loss: 0.0049\n",
      "Epoch 8/100\n",
      "38/38 [==============================] - 3s 68ms/step - loss: 0.0047\n",
      "Epoch 9/100\n",
      "38/38 [==============================] - 2s 66ms/step - loss: 0.0045\n",
      "Epoch 10/100\n",
      "38/38 [==============================] - 2s 65ms/step - loss: 0.0052\n",
      "Epoch 11/100\n",
      "38/38 [==============================] - 3s 70ms/step - loss: 0.0040\n",
      "Epoch 12/100\n",
      "38/38 [==============================] - 2s 66ms/step - loss: 0.0040\n",
      "Epoch 13/100\n",
      "38/38 [==============================] - 3s 68ms/step - loss: 0.0041\n",
      "Epoch 14/100\n",
      "38/38 [==============================] - 3s 67ms/step - loss: 0.0038\n",
      "Epoch 15/100\n",
      "38/38 [==============================] - 2s 63ms/step - loss: 0.0035\n",
      "Epoch 16/100\n",
      "38/38 [==============================] - 3s 70ms/step - loss: 0.0038\n",
      "Epoch 17/100\n",
      "38/38 [==============================] - 2s 64ms/step - loss: 0.0034\n",
      "Epoch 18/100\n",
      "38/38 [==============================] - 2s 62ms/step - loss: 0.0038\n",
      "Epoch 19/100\n",
      "38/38 [==============================] - 2s 61ms/step - loss: 0.0038\n",
      "Epoch 20/100\n",
      "38/38 [==============================] - 2s 62ms/step - loss: 0.0037\n",
      "Epoch 21/100\n",
      "38/38 [==============================] - 2s 62ms/step - loss: 0.0033\n",
      "Epoch 22/100\n",
      "38/38 [==============================] - 2s 62ms/step - loss: 0.0035\n",
      "Epoch 23/100\n",
      "38/38 [==============================] - 2s 64ms/step - loss: 0.0034\n",
      "Epoch 24/100\n",
      "38/38 [==============================] - 2s 56ms/step - loss: 0.0035\n",
      "Epoch 25/100\n",
      "38/38 [==============================] - 2s 54ms/step - loss: 0.0032\n",
      "Epoch 26/100\n",
      "38/38 [==============================] - 2s 55ms/step - loss: 0.0032\n",
      "Epoch 27/100\n",
      "38/38 [==============================] - 2s 55ms/step - loss: 0.0035\n",
      "Epoch 28/100\n",
      "38/38 [==============================] - 2s 55ms/step - loss: 0.0035\n",
      "Epoch 29/100\n",
      "38/38 [==============================] - 2s 54ms/step - loss: 0.0030\n",
      "Epoch 30/100\n",
      "38/38 [==============================] - 2s 54ms/step - loss: 0.0029\n",
      "Epoch 31/100\n",
      "38/38 [==============================] - 2s 54ms/step - loss: 0.0032\n",
      "Epoch 32/100\n",
      "38/38 [==============================] - 2s 54ms/step - loss: 0.0031\n",
      "Epoch 33/100\n",
      "38/38 [==============================] - 2s 55ms/step - loss: 0.0030\n",
      "Epoch 34/100\n",
      "38/38 [==============================] - 2s 63ms/step - loss: 0.0029\n",
      "Epoch 35/100\n",
      "38/38 [==============================] - 3s 67ms/step - loss: 0.0033\n",
      "Epoch 36/100\n",
      "38/38 [==============================] - 2s 65ms/step - loss: 0.0031\n",
      "Epoch 37/100\n",
      "38/38 [==============================] - 3s 66ms/step - loss: 0.0031\n",
      "Epoch 38/100\n",
      "38/38 [==============================] - 3s 70ms/step - loss: 0.0026\n",
      "Epoch 39/100\n",
      "38/38 [==============================] - 3s 69ms/step - loss: 0.0026\n",
      "Epoch 40/100\n",
      "38/38 [==============================] - 3s 65ms/step - loss: 0.0025\n",
      "Epoch 41/100\n",
      "38/38 [==============================] - 2s 64ms/step - loss: 0.0026\n",
      "Epoch 42/100\n",
      "38/38 [==============================] - 2s 64ms/step - loss: 0.0027\n",
      "Epoch 43/100\n",
      "38/38 [==============================] - 2s 64ms/step - loss: 0.0028\n",
      "Epoch 44/100\n",
      "38/38 [==============================] - 2s 61ms/step - loss: 0.0025\n",
      "Epoch 45/100\n",
      "38/38 [==============================] - 2s 61ms/step - loss: 0.0027\n",
      "Epoch 46/100\n",
      "38/38 [==============================] - 2s 62ms/step - loss: 0.0026\n",
      "Epoch 47/100\n",
      "38/38 [==============================] - 2s 65ms/step - loss: 0.0022\n",
      "Epoch 48/100\n",
      "38/38 [==============================] - 3s 67ms/step - loss: 0.0024\n",
      "Epoch 49/100\n",
      "38/38 [==============================] - 3s 67ms/step - loss: 0.0024\n",
      "Epoch 50/100\n",
      "38/38 [==============================] - 3s 68ms/step - loss: 0.0026\n",
      "Epoch 51/100\n",
      "38/38 [==============================] - 4s 106ms/step - loss: 0.0022\n",
      "Epoch 52/100\n",
      "38/38 [==============================] - 2s 61ms/step - loss: 0.0021\n",
      "Epoch 53/100\n",
      "38/38 [==============================] - 2s 61ms/step - loss: 0.0023\n",
      "Epoch 54/100\n",
      "38/38 [==============================] - 2s 65ms/step - loss: 0.0023\n",
      "Epoch 55/100\n",
      "38/38 [==============================] - 3s 70ms/step - loss: 0.0023\n",
      "Epoch 56/100\n",
      "38/38 [==============================] - 3s 71ms/step - loss: 0.0022\n",
      "Epoch 57/100\n",
      "38/38 [==============================] - 3s 69ms/step - loss: 0.0023\n",
      "Epoch 58/100\n",
      "38/38 [==============================] - 3s 68ms/step - loss: 0.0023\n",
      "Epoch 59/100\n",
      "38/38 [==============================] - 2s 61ms/step - loss: 0.0021\n",
      "Epoch 60/100\n",
      "38/38 [==============================] - 2s 64ms/step - loss: 0.0021\n",
      "Epoch 61/100\n",
      "38/38 [==============================] - 2s 63ms/step - loss: 0.0020\n",
      "Epoch 62/100\n",
      "38/38 [==============================] - 2s 64ms/step - loss: 0.0020\n",
      "Epoch 63/100\n",
      "38/38 [==============================] - 3s 67ms/step - loss: 0.0021\n",
      "Epoch 64/100\n",
      "38/38 [==============================] - 2s 65ms/step - loss: 0.0019\n",
      "Epoch 65/100\n",
      "38/38 [==============================] - 3s 67ms/step - loss: 0.0019\n",
      "Epoch 66/100\n",
      "38/38 [==============================] - 3s 65ms/step - loss: 0.0020\n",
      "Epoch 67/100\n",
      "38/38 [==============================] - 3s 68ms/step - loss: 0.0021\n",
      "Epoch 68/100\n",
      "38/38 [==============================] - 2s 62ms/step - loss: 0.0020\n",
      "Epoch 69/100\n",
      "38/38 [==============================] - 2s 61ms/step - loss: 0.0018\n",
      "Epoch 70/100\n",
      "38/38 [==============================] - 2s 65ms/step - loss: 0.0021\n",
      "Epoch 71/100\n",
      "38/38 [==============================] - 2s 62ms/step - loss: 0.0019\n",
      "Epoch 72/100\n",
      "38/38 [==============================] - 2s 62ms/step - loss: 0.0020\n",
      "Epoch 73/100\n",
      "38/38 [==============================] - 2s 61ms/step - loss: 0.0023\n",
      "Epoch 74/100\n",
      "38/38 [==============================] - 2s 62ms/step - loss: 0.0019\n",
      "Epoch 75/100\n",
      "38/38 [==============================] - 3s 68ms/step - loss: 0.0017\n",
      "Epoch 76/100\n",
      "38/38 [==============================] - 2s 63ms/step - loss: 0.0020\n",
      "Epoch 77/100\n",
      "38/38 [==============================] - 2s 65ms/step - loss: 0.0018\n",
      "Epoch 78/100\n",
      "38/38 [==============================] - 2s 61ms/step - loss: 0.0018\n",
      "Epoch 79/100\n",
      "38/38 [==============================] - 2s 64ms/step - loss: 0.0018\n",
      "Epoch 80/100\n",
      "38/38 [==============================] - 2s 62ms/step - loss: 0.0017\n",
      "Epoch 81/100\n",
      "38/38 [==============================] - 3s 67ms/step - loss: 0.0017\n",
      "Epoch 82/100\n",
      "38/38 [==============================] - 2s 62ms/step - loss: 0.0018\n",
      "Epoch 83/100\n",
      "38/38 [==============================] - 2s 64ms/step - loss: 0.0017\n",
      "Epoch 84/100\n",
      "38/38 [==============================] - 2s 62ms/step - loss: 0.0016\n",
      "Epoch 85/100\n",
      "38/38 [==============================] - 2s 64ms/step - loss: 0.0015\n",
      "Epoch 86/100\n",
      "38/38 [==============================] - 3s 67ms/step - loss: 0.0018\n",
      "Epoch 87/100\n",
      "38/38 [==============================] - 2s 65ms/step - loss: 0.0017\n",
      "Epoch 88/100\n",
      "38/38 [==============================] - 2s 63ms/step - loss: 0.0015\n",
      "Epoch 89/100\n",
      "38/38 [==============================] - 2s 63ms/step - loss: 0.0016\n",
      "Epoch 90/100\n",
      "38/38 [==============================] - 2s 62ms/step - loss: 0.0016\n",
      "Epoch 91/100\n",
      "38/38 [==============================] - 2s 65ms/step - loss: 0.0017\n",
      "Epoch 92/100\n",
      "38/38 [==============================] - 2s 64ms/step - loss: 0.0015\n",
      "Epoch 93/100\n",
      "38/38 [==============================] - 2s 62ms/step - loss: 0.0016\n",
      "Epoch 94/100\n",
      "38/38 [==============================] - 2s 62ms/step - loss: 0.0016\n",
      "Epoch 95/100\n",
      "38/38 [==============================] - 3s 66ms/step - loss: 0.0016\n",
      "Epoch 96/100\n",
      "38/38 [==============================] - 2s 63ms/step - loss: 0.0016\n",
      "Epoch 97/100\n",
      "38/38 [==============================] - 2s 62ms/step - loss: 0.0016\n",
      "Epoch 98/100\n"
     ]
    },
    {
     "name": "stdout",
     "output_type": "stream",
     "text": [
      "38/38 [==============================] - 2s 62ms/step - loss: 0.0016\n",
      "Epoch 99/100\n",
      "38/38 [==============================] - 2s 61ms/step - loss: 0.0016\n",
      "Epoch 100/100\n",
      "38/38 [==============================] - 2s 61ms/step - loss: 0.0014\n"
     ]
    },
    {
     "data": {
      "text/plain": [
       "<keras.src.callbacks.History at 0x256189194e0>"
      ]
     },
     "execution_count": 32,
     "metadata": {},
     "output_type": "execute_result"
    }
   ],
   "source": [
    "regressor.fit(X_train, y_train, epochs=100, batch_size = 32)\n",
    "#we have a robust rnn we need to connect to trainig set by using the fit method\n",
    "#network trains on batch size ie insted of rnn updating the weights after each entry it does after a batch size of 32 entries"
   ]
  },
  {
   "cell_type": "markdown",
   "id": "15e2a12d",
   "metadata": {},
   "source": [
    "## We added dropout to reduce overfitting\n",
    "## 0.0015 loss is a  good number for no overfitting, if our loss is too small then overfitting ie our prediction will be too close to the actual prices"
   ]
  },
  {
   "cell_type": "markdown",
   "id": "73a63ea6",
   "metadata": {},
   "source": [
    "## Making the predictions and visualising the results"
   ]
  },
  {
   "cell_type": "markdown",
   "id": "d4c46511",
   "metadata": {},
   "source": [
    "### Getting the real stock price of 2017"
   ]
  },
  {
   "cell_type": "code",
   "execution_count": 33,
   "id": "2e8b52fc",
   "metadata": {},
   "outputs": [],
   "source": [
    "test_dataset = pd.read_csv(r\"C:\\Users\\amita\\Desktop\\Deep Learning\\RNN\\RNN\\Part 3 - Recurrent Neural Networks\\Google_Stock_Price_Test.csv\")"
   ]
  },
  {
   "cell_type": "code",
   "execution_count": 34,
   "id": "f1cbc3f8",
   "metadata": {},
   "outputs": [
    {
     "data": {
      "text/html": [
       "<div>\n",
       "<style scoped>\n",
       "    .dataframe tbody tr th:only-of-type {\n",
       "        vertical-align: middle;\n",
       "    }\n",
       "\n",
       "    .dataframe tbody tr th {\n",
       "        vertical-align: top;\n",
       "    }\n",
       "\n",
       "    .dataframe thead th {\n",
       "        text-align: right;\n",
       "    }\n",
       "</style>\n",
       "<table border=\"1\" class=\"dataframe\">\n",
       "  <thead>\n",
       "    <tr style=\"text-align: right;\">\n",
       "      <th></th>\n",
       "      <th>Date</th>\n",
       "      <th>Open</th>\n",
       "      <th>High</th>\n",
       "      <th>Low</th>\n",
       "      <th>Close</th>\n",
       "      <th>Volume</th>\n",
       "    </tr>\n",
       "  </thead>\n",
       "  <tbody>\n",
       "    <tr>\n",
       "      <th>0</th>\n",
       "      <td>1/3/2017</td>\n",
       "      <td>778.81</td>\n",
       "      <td>789.63</td>\n",
       "      <td>775.80</td>\n",
       "      <td>786.14</td>\n",
       "      <td>1,657,300</td>\n",
       "    </tr>\n",
       "    <tr>\n",
       "      <th>1</th>\n",
       "      <td>1/4/2017</td>\n",
       "      <td>788.36</td>\n",
       "      <td>791.34</td>\n",
       "      <td>783.16</td>\n",
       "      <td>786.90</td>\n",
       "      <td>1,073,000</td>\n",
       "    </tr>\n",
       "    <tr>\n",
       "      <th>2</th>\n",
       "      <td>1/5/2017</td>\n",
       "      <td>786.08</td>\n",
       "      <td>794.48</td>\n",
       "      <td>785.02</td>\n",
       "      <td>794.02</td>\n",
       "      <td>1,335,200</td>\n",
       "    </tr>\n",
       "    <tr>\n",
       "      <th>3</th>\n",
       "      <td>1/6/2017</td>\n",
       "      <td>795.26</td>\n",
       "      <td>807.90</td>\n",
       "      <td>792.20</td>\n",
       "      <td>806.15</td>\n",
       "      <td>1,640,200</td>\n",
       "    </tr>\n",
       "    <tr>\n",
       "      <th>4</th>\n",
       "      <td>1/9/2017</td>\n",
       "      <td>806.40</td>\n",
       "      <td>809.97</td>\n",
       "      <td>802.83</td>\n",
       "      <td>806.65</td>\n",
       "      <td>1,272,400</td>\n",
       "    </tr>\n",
       "  </tbody>\n",
       "</table>\n",
       "</div>"
      ],
      "text/plain": [
       "       Date    Open    High     Low   Close     Volume\n",
       "0  1/3/2017  778.81  789.63  775.80  786.14  1,657,300\n",
       "1  1/4/2017  788.36  791.34  783.16  786.90  1,073,000\n",
       "2  1/5/2017  786.08  794.48  785.02  794.02  1,335,200\n",
       "3  1/6/2017  795.26  807.90  792.20  806.15  1,640,200\n",
       "4  1/9/2017  806.40  809.97  802.83  806.65  1,272,400"
      ]
     },
     "execution_count": 34,
     "metadata": {},
     "output_type": "execute_result"
    }
   ],
   "source": [
    "test_dataset.head()"
   ]
  },
  {
   "cell_type": "code",
   "execution_count": 35,
   "id": "49b7f43b",
   "metadata": {},
   "outputs": [],
   "source": [
    "#WE NEED TO CONVERT TO A NP ARRAY AS IT CAN ONLY BE INPUT FOR RNN\n",
    "real_stock_price = test_dataset.iloc[:, 1:2].values #only take one index so we have a np array of one columns, .values converts to a np array"
   ]
  },
  {
   "cell_type": "code",
   "execution_count": 36,
   "id": "ce492ee6",
   "metadata": {},
   "outputs": [
    {
     "data": {
      "text/plain": [
       "array([[778.81],\n",
       "       [788.36],\n",
       "       [786.08],\n",
       "       [795.26],\n",
       "       [806.4 ],\n",
       "       [807.86],\n",
       "       [805.  ],\n",
       "       [807.14],\n",
       "       [807.48],\n",
       "       [807.08],\n",
       "       [805.81],\n",
       "       [805.12],\n",
       "       [806.91],\n",
       "       [807.25],\n",
       "       [822.3 ],\n",
       "       [829.62],\n",
       "       [837.81],\n",
       "       [834.71],\n",
       "       [814.66],\n",
       "       [796.86]])"
      ]
     },
     "execution_count": 36,
     "metadata": {},
     "output_type": "execute_result"
    }
   ],
   "source": [
    "real_stock_price"
   ]
  },
  {
   "cell_type": "markdown",
   "id": "5d120cce",
   "metadata": {},
   "source": [
    "### Getting the predicted stock price of 2017"
   ]
  },
  {
   "cell_type": "code",
   "execution_count": 37,
   "id": "bb4434ab",
   "metadata": {},
   "outputs": [],
   "source": [
    "# our model needs to capture the trend only not the exact prices"
   ]
  },
  {
   "cell_type": "code",
   "execution_count": 38,
   "id": "2acb6b54",
   "metadata": {},
   "outputs": [],
   "source": [
    "#topredict in jan we need to have 60 previous datapoints, so we need both training and test set because we need some points from dec 2016 and jan 2017 as well"
   ]
  },
  {
   "cell_type": "code",
   "execution_count": 39,
   "id": "82f3d91a",
   "metadata": {},
   "outputs": [],
   "source": [
    "dataset_total = pd.concat((train_dataset['Open'], test_dataset['Open']), axis = 0)\n",
    "#we concat the original train and test and thenget the input for each prediction ie 60 previous for timt t then we will scale them so we only scale req points not all the testing\n",
    "#concat only the col \"Open\" as they only cancat based on that , vertical concat axis = 0"
   ]
  },
  {
   "cell_type": "code",
   "execution_count": 41,
   "id": "aa255525",
   "metadata": {},
   "outputs": [
    {
     "data": {
      "text/plain": [
       "(1278,)"
      ]
     },
     "execution_count": 41,
     "metadata": {},
     "output_type": "execute_result"
    }
   ],
   "source": [
    "dataset_total.shape  #1258+20"
   ]
  },
  {
   "cell_type": "code",
   "execution_count": 42,
   "id": "5d2b4313",
   "metadata": {},
   "outputs": [],
   "source": [
    "inputs = dataset_total[len(dataset_total) - len(test_dataset) - 60:].values\n",
    "#inputs are for each time t in the month of jan, for each day in jan we need 60 days previous ie 3 previous months\n",
    "#lower bound is 1st fin day of jan 2017 - 60, upper bound = last fin day of jan 2017 - 60\n",
    "#len(dataset_total) - len(test_dataset) ie last day of concat - 20 days would give jan 3rd ie first fin day of jan\n",
    "#its -60 to everything \n",
    "#.values to convert to np array"
   ]
  },
  {
   "cell_type": "code",
   "execution_count": 43,
   "id": "8af48c9e",
   "metadata": {},
   "outputs": [],
   "source": [
    "inputs = inputs.reshape(-1,1) #to get right numpy shape as it wont be shaped properly, we get it in a line and a columns"
   ]
  },
  {
   "cell_type": "code",
   "execution_count": 44,
   "id": "71e61be6",
   "metadata": {},
   "outputs": [
    {
     "data": {
      "text/plain": [
       "array([[779.  ],\n",
       "       [779.66],\n",
       "       [777.71],\n",
       "       [786.66],\n",
       "       [783.76],\n",
       "       [781.22],\n",
       "       [781.65],\n",
       "       [779.8 ],\n",
       "       [787.85],\n",
       "       [798.24],\n",
       "       [803.3 ],\n",
       "       [795.  ],\n",
       "       [804.9 ],\n",
       "       [816.68],\n",
       "       [806.34],\n",
       "       [801.  ],\n",
       "       [808.35],\n",
       "       [795.47],\n",
       "       [782.89],\n",
       "       [778.2 ],\n",
       "       [767.25],\n",
       "       [750.66],\n",
       "       [774.5 ],\n",
       "       [783.4 ],\n",
       "       [779.94],\n",
       "       [791.17],\n",
       "       [756.54],\n",
       "       [755.6 ],\n",
       "       [746.97],\n",
       "       [755.2 ],\n",
       "       [766.92],\n",
       "       [771.37],\n",
       "       [762.61],\n",
       "       [772.63],\n",
       "       [767.73],\n",
       "       [764.26],\n",
       "       [760.  ],\n",
       "       [771.53],\n",
       "       [770.07],\n",
       "       [757.44],\n",
       "       [744.59],\n",
       "       [757.71],\n",
       "       [764.73],\n",
       "       [761.  ],\n",
       "       [772.48],\n",
       "       [780.  ],\n",
       "       [785.04],\n",
       "       [793.9 ],\n",
       "       [797.4 ],\n",
       "       [797.34],\n",
       "       [800.4 ],\n",
       "       [790.22],\n",
       "       [796.76],\n",
       "       [795.84],\n",
       "       [792.36],\n",
       "       [790.9 ],\n",
       "       [790.68],\n",
       "       [793.7 ],\n",
       "       [783.33],\n",
       "       [782.75],\n",
       "       [778.81],\n",
       "       [788.36],\n",
       "       [786.08],\n",
       "       [795.26],\n",
       "       [806.4 ],\n",
       "       [807.86],\n",
       "       [805.  ],\n",
       "       [807.14],\n",
       "       [807.48],\n",
       "       [807.08],\n",
       "       [805.81],\n",
       "       [805.12],\n",
       "       [806.91],\n",
       "       [807.25],\n",
       "       [822.3 ],\n",
       "       [829.62],\n",
       "       [837.81],\n",
       "       [834.71],\n",
       "       [814.66],\n",
       "       [796.86]])"
      ]
     },
     "execution_count": 44,
     "metadata": {},
     "output_type": "execute_result"
    }
   ],
   "source": [
    "inputs"
   ]
  },
  {
   "cell_type": "code",
   "execution_count": 45,
   "id": "49b66039",
   "metadata": {},
   "outputs": [],
   "source": [
    "inputs = sc.transform(inputs) "
   ]
  },
  {
   "cell_type": "code",
   "execution_count": 46,
   "id": "552a4799",
   "metadata": {},
   "outputs": [
    {
     "data": {
      "text/plain": [
       "array([[0.9299055 ],\n",
       "       [0.93113327],\n",
       "       [0.92750577],\n",
       "       [0.94415507],\n",
       "       [0.93876032],\n",
       "       [0.93403527],\n",
       "       [0.93483518],\n",
       "       [0.9313937 ],\n",
       "       [0.94636878],\n",
       "       [0.96569685],\n",
       "       [0.97510976],\n",
       "       [0.95966962],\n",
       "       [0.97808617],\n",
       "       [1.        ],\n",
       "       [0.98076494],\n",
       "       [0.97083116],\n",
       "       [0.98450406],\n",
       "       [0.96054394],\n",
       "       [0.9371419 ],\n",
       "       [0.92841729],\n",
       "       [0.90804747],\n",
       "       [0.8771858 ],\n",
       "       [0.92153434],\n",
       "       [0.93809063],\n",
       "       [0.93165414],\n",
       "       [0.95254483],\n",
       "       [0.88812412],\n",
       "       [0.88637547],\n",
       "       [0.87032145],\n",
       "       [0.88563137],\n",
       "       [0.90743359],\n",
       "       [0.91571173],\n",
       "       [0.89941588],\n",
       "       [0.91805566],\n",
       "       [0.9089404 ],\n",
       "       [0.9024853 ],\n",
       "       [0.89456061],\n",
       "       [0.91600938],\n",
       "       [0.9132934 ],\n",
       "       [0.88979835],\n",
       "       [0.86589404],\n",
       "       [0.89030062],\n",
       "       [0.90335962],\n",
       "       [0.89642086],\n",
       "       [0.91777662],\n",
       "       [0.93176576],\n",
       "       [0.94114145],\n",
       "       [0.95762334],\n",
       "       [0.96413424],\n",
       "       [0.96402262],\n",
       "       [0.96971501],\n",
       "       [0.95077759],\n",
       "       [0.96294367],\n",
       "       [0.96123223],\n",
       "       [0.95475854],\n",
       "       [0.95204256],\n",
       "       [0.95163331],\n",
       "       [0.95725128],\n",
       "       [0.93796041],\n",
       "       [0.93688146],\n",
       "       [0.92955205],\n",
       "       [0.94731751],\n",
       "       [0.94307612],\n",
       "       [0.96015329],\n",
       "       [0.98087655],\n",
       "       [0.98359253],\n",
       "       [0.97827219],\n",
       "       [0.98225314],\n",
       "       [0.98288563],\n",
       "       [0.98214153],\n",
       "       [0.979779  ],\n",
       "       [0.97849542],\n",
       "       [0.98182528],\n",
       "       [0.98245777],\n",
       "       [1.01045465],\n",
       "       [1.02407173],\n",
       "       [1.03930724],\n",
       "       [1.03354044],\n",
       "       [0.99624228],\n",
       "       [0.9631297 ]])"
      ]
     },
     "execution_count": 46,
     "metadata": {},
     "output_type": "execute_result"
    }
   ],
   "source": [
    "inputs"
   ]
  },
  {
   "cell_type": "code",
   "execution_count": 47,
   "id": "78f9baed",
   "metadata": {},
   "outputs": [
    {
     "data": {
      "text/plain": [
       "(80, 1)"
      ]
     },
     "execution_count": 47,
     "metadata": {},
     "output_type": "execute_result"
    }
   ],
   "source": [
    "inputs.shape"
   ]
  },
  {
   "cell_type": "code",
   "execution_count": 48,
   "id": "cb4d1842",
   "metadata": {},
   "outputs": [],
   "source": [
    "X_test = []\n",
    "for i in range(60, 80):\n",
    "    X_test.append(inputs[i-60:i, 0])\n",
    "X_test = np.array(X_test)\n",
    "#(60,80) beacuse of only 20 days in jan"
   ]
  },
  {
   "cell_type": "code",
   "execution_count": 49,
   "id": "60a01601",
   "metadata": {},
   "outputs": [
    {
     "data": {
      "text/plain": [
       "array([[0.9299055 , 0.93113327, 0.92750577, ..., 0.95725128, 0.93796041,\n",
       "        0.93688146],\n",
       "       [0.93113327, 0.92750577, 0.94415507, ..., 0.93796041, 0.93688146,\n",
       "        0.92955205],\n",
       "       [0.92750577, 0.94415507, 0.93876032, ..., 0.93688146, 0.92955205,\n",
       "        0.94731751],\n",
       "       ...,\n",
       "       [0.96054394, 0.9371419 , 0.92841729, ..., 1.01045465, 1.02407173,\n",
       "        1.03930724],\n",
       "       [0.9371419 , 0.92841729, 0.90804747, ..., 1.02407173, 1.03930724,\n",
       "        1.03354044],\n",
       "       [0.92841729, 0.90804747, 0.8771858 , ..., 1.03930724, 1.03354044,\n",
       "        0.99624228]])"
      ]
     },
     "execution_count": 49,
     "metadata": {},
     "output_type": "execute_result"
    }
   ],
   "source": [
    "X_test"
   ]
  },
  {
   "cell_type": "code",
   "execution_count": 50,
   "id": "1abf2b1d",
   "metadata": {},
   "outputs": [],
   "source": [
    "#in each line we have 60 previous stock prices"
   ]
  },
  {
   "cell_type": "code",
   "execution_count": 51,
   "id": "7ddc1ae6",
   "metadata": {},
   "outputs": [],
   "source": [
    "#reshaping\n",
    "X_test = np.reshape(X_test, (X_test.shape[0], X_test.shape[1], 1))"
   ]
  },
  {
   "cell_type": "code",
   "execution_count": 52,
   "id": "fdf8a9e7",
   "metadata": {},
   "outputs": [
    {
     "name": "stdout",
     "output_type": "stream",
     "text": [
      "1/1 [==============================] - 2s 2s/step\n"
     ]
    }
   ],
   "source": [
    "#predicting\n",
    "predicted_stock_price = regressor.predict(X_test)\n",
    "predicted_stock_price = sc.inverse_transform(predicted_stock_price)\n",
    "#inverse_transform to ge tthe original scaling "
   ]
  },
  {
   "cell_type": "code",
   "execution_count": 53,
   "id": "e3bb3a64",
   "metadata": {},
   "outputs": [
    {
     "data": {
      "text/plain": [
       "array([[791.70886],\n",
       "       [789.138  ],\n",
       "       [789.06726],\n",
       "       [790.11993],\n",
       "       [793.19604],\n",
       "       [798.9061 ],\n",
       "       [804.60016],\n",
       "       [807.66113],\n",
       "       [808.8038 ],\n",
       "       [808.9092 ],\n",
       "       [808.5618 ],\n",
       "       [807.97046],\n",
       "       [807.41504],\n",
       "       [807.578  ],\n",
       "       [808.3008 ],\n",
       "       [812.4899 ],\n",
       "       [819.14404],\n",
       "       [826.7608 ],\n",
       "       [831.6772 ],\n",
       "       [829.089  ]], dtype=float32)"
      ]
     },
     "execution_count": 53,
     "metadata": {},
     "output_type": "execute_result"
    }
   ],
   "source": [
    "predicted_stock_price"
   ]
  },
  {
   "cell_type": "markdown",
   "id": "93d37810",
   "metadata": {},
   "source": [
    "### Visualising the results"
   ]
  },
  {
   "cell_type": "code",
   "execution_count": 54,
   "id": "acef3e5b",
   "metadata": {},
   "outputs": [
    {
     "data": {
      "image/png": "[encoded data removed]",
      "text/plain": [
       "<Figure size 640x480 with 1 Axes>"
      ]
     },
     "metadata": {},
     "output_type": "display_data"
    }
   ],
   "source": [
    "plt.plot(real_stock_price, color = 'red', label = 'Real Google Stock Price')\n",
    "plt.plot(predicted_stock_price, color = 'blue', label = 'Predicted Google Stock Price')\n",
    "plt.title('Google Stock Price Prediction')\n",
    "plt.xlabel('Time')\n",
    "plt.ylabel('Google Stock Price')\n",
    "plt.legend()\n",
    "plt.show()"
   ]
  },
  {
   "cell_type": "markdown",
   "id": "6456f6ba",
   "metadata": {},
   "source": [
    "## Its almost showing the right trends, and stock prices cannot be predicted accurately , so its catching the trend properly"
   ]
  },
  {
   "cell_type": "markdown",
   "id": "06166fa1",
   "metadata": {},
   "source": [
    "## It wont react properly to spikes but reacts properly for smooth changes"
   ]
  },
  {
   "cell_type": "markdown",
   "id": "57686f78",
   "metadata": {},
   "source": [
    "## To Improve:\n",
    "### - Getting More Training Data\n",
    "### - Increasing the number of timesteps\n",
    "### - Adding some other indicators\n",
    "### - Adding more LSTM Layers\n",
    "### - Adding more neurons in each LSTM Layers"
   ]
  },
  {
   "cell_type": "code",
   "execution_count": null,
   "id": "aeca7654",
   "metadata": {},
   "outputs": [],
   "source": []
  }
 ],
 "metadata": {
  "kernelspec": {
   "display_name": "Python 3 (ipykernel)",
   "language": "python",
   "name": "python3"
  },
  "language_info": {
   "codemirror_mode": {
    "name": "ipython",
    "version": 3
   },
   "file_extension": ".py",
   "mimetype": "text/x-python",
   "name": "python",
   "nbconvert_exporter": "python",
   "pygments_lexer": "ipython3",
   "version": "3.10.9"
  }
 },
 "nbformat": 4,
 "nbformat_minor": 5
}
